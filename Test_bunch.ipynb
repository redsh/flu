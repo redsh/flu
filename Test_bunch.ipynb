{
 "metadata": {
  "name": ""
 },
 "nbformat": 3,
 "nbformat_minor": 0,
 "worksheets": [
  {
   "cells": [
    {
     "cell_type": "code",
     "collapsed": false,
     "input": [
      "%reset -f\n",
      "%load_ext autoreload\n",
      "%autoreload 2\n",
      "from flu.configs import Config\n",
      "from flu.setup import *\n",
      "\n",
      "# parameters\n",
      "cfg = Config()\n",
      "cfg.geometry = 'cyl'\n",
      "cfg.method   = 'fluid'\n",
      "#r.l0=1e-4\n",
      "cfg.Lz,cfg.Lr = 30.,10.\n",
      "cfg.dz,cfg.dr = 1./10,1./10\n",
      "cfg.L = 1.0\n",
      "cfg.W = 2.0\n",
      "cfg.a0 = 1.5\n",
      "cfg.dt = cfg.dz*0.2\n",
      "cfg.k0_kp = 30\n",
      "cfg.T0 = 0.\n",
      "cfg.smax = 20.0\n",
      "\n",
      "init(cfg, globals())\n",
      "\n",
      "\n",
      "from flu.bunch import *\n",
      "\n",
      "\n",
      "s0.Ez = gaussian_envelope(0)\n",
      "\n",
      "N = s0.Ez.shape[0]*s0.Ez.shape[1]*4\n",
      "gamma = 101.\n",
      "b = kinetic_bunch(N, mean=(0.,0.), sigma=(1.,1.), gamma=gamma, emit=1e-2)\n",
      "\n",
      "b.deriv(s0)\n",
      "\n",
      "#scatter(b.data[0,:],b.data[1,:])\n",
      "#show()\n",
      "#scatter(b.data[0,:],b.data[2,:])\n",
      "#x,h=np.histogram(b.data[3,:],128)\n",
      "#bar(h[1:]+h[:-1],x)\n",
      "\n",
      "s0.plasmas = [b]\n",
      "s0 = rk4(s0, 0, dt, plasma.deriv)\n",
      "\n",
      "#print s0.Ez.shape\n",
      "#print b.debug\n",
      "#plot(s0.Ez[0,:])\n",
      "\n",
      "print 'somma',b.debug['J'][0].sum()/N,b.data[2,:].sum()/N,gamma\n",
      "subplot(1,2,1)\n",
      "title('Jz')\n",
      "phys_imshow(z,r,b.debug['J'][0])\n",
      "colorbar()\n",
      "subplot(1,2,2)\n",
      "title('Jr')\n",
      "phys_imshow(z,r,b.debug['J'][1])\n",
      "colorbar()\n",
      "show()\n",
      "\n",
      "phys_imshow(z,r,s0.Ez)\n",
      "scatter(b.data[0,:],b.data[1,:],c=b.debug['ez'])\n",
      "show()\n"
     ],
     "language": "python",
     "metadata": {},
     "outputs": [
      {
       "output_type": "stream",
       "stream": "stdout",
       "text": [
        "The autoreload extension is already loaded. To reload it, use:\n",
        "  %reload_ext autoreload\n",
        "fields dr"
       ]
      },
      {
       "output_type": "stream",
       "stream": "stdout",
       "text": [
        " 0.10101010101\n",
        "gaussian envelope @ 0 delta_g= 0.0\n",
        "0.0"
       ]
      },
      {
       "output_type": "stream",
       "stream": "stdout",
       "text": [
        " 300.0 (301,)\n",
        "0.0"
       ]
      },
      {
       "ename": "AttributeError",
       "evalue": "'Sim' object has no attribute 'plasmas'",
       "output_type": "pyerr",
       "traceback": [
        "\u001b[0;31m---------------------------------------------------------------------------\u001b[0m\n\u001b[0;31mAttributeError\u001b[0m                            Traceback (most recent call last)",
        "\u001b[0;32m<ipython-input-52-5a68373718f4>\u001b[0m in \u001b[0;36m<module>\u001b[0;34m()\u001b[0m\n\u001b[1;32m     41\u001b[0m \u001b[0;34m\u001b[0m\u001b[0m\n\u001b[1;32m     42\u001b[0m \u001b[0ms0\u001b[0m\u001b[0;34m.\u001b[0m\u001b[0mplasmas\u001b[0m \u001b[0;34m=\u001b[0m \u001b[0;34m[\u001b[0m\u001b[0mb\u001b[0m\u001b[0;34m]\u001b[0m\u001b[0;34m\u001b[0m\u001b[0m\n\u001b[0;32m---> 43\u001b[0;31m \u001b[0ms0\u001b[0m \u001b[0;34m=\u001b[0m \u001b[0mrk4\u001b[0m\u001b[0;34m(\u001b[0m\u001b[0ms0\u001b[0m\u001b[0;34m,\u001b[0m \u001b[0;36m0\u001b[0m\u001b[0;34m,\u001b[0m \u001b[0mdt\u001b[0m\u001b[0;34m,\u001b[0m \u001b[0mplasma\u001b[0m\u001b[0;34m.\u001b[0m\u001b[0mderiv\u001b[0m\u001b[0;34m)\u001b[0m\u001b[0;34m\u001b[0m\u001b[0m\n\u001b[0m\u001b[1;32m     44\u001b[0m \u001b[0;34m\u001b[0m\u001b[0m\n\u001b[1;32m     45\u001b[0m \u001b[0;31m#print s0.Ez.shape\u001b[0m\u001b[0;34m\u001b[0m\u001b[0;34m\u001b[0m\u001b[0m\n",
        "\u001b[0;32m/Users/redsh/projs/flu/flu/integrators/__init__.pyc\u001b[0m in \u001b[0;36mrk4\u001b[0;34m(yn, t, h, f)\u001b[0m\n\u001b[1;32m      6\u001b[0m \u001b[0;34m\u001b[0m\u001b[0m\n\u001b[1;32m      7\u001b[0m         \u001b[0mk1\u001b[0m \u001b[0;34m=\u001b[0m \u001b[0mf\u001b[0m\u001b[0;34m(\u001b[0m\u001b[0mt\u001b[0m     \u001b[0;34m,\u001b[0m\u001b[0myn\u001b[0m        \u001b[0;34m)\u001b[0m\u001b[0;34m\u001b[0m\u001b[0m\n\u001b[0;32m----> 8\u001b[0;31m         \u001b[0mk2\u001b[0m \u001b[0;34m=\u001b[0m \u001b[0mf\u001b[0m\u001b[0;34m(\u001b[0m\u001b[0mt\u001b[0m\u001b[0;34m+\u001b[0m\u001b[0mh__2\u001b[0m\u001b[0;34m,\u001b[0m\u001b[0myn\u001b[0m\u001b[0;34m+\u001b[0m\u001b[0mk1\u001b[0m\u001b[0;34m*\u001b[0m\u001b[0mh__2\u001b[0m\u001b[0;34m)\u001b[0m\u001b[0;34m\u001b[0m\u001b[0m\n\u001b[0m\u001b[1;32m      9\u001b[0m         \u001b[0mk3\u001b[0m \u001b[0;34m=\u001b[0m \u001b[0mf\u001b[0m\u001b[0;34m(\u001b[0m\u001b[0mt\u001b[0m\u001b[0;34m+\u001b[0m\u001b[0mh__2\u001b[0m\u001b[0;34m,\u001b[0m\u001b[0myn\u001b[0m\u001b[0;34m+\u001b[0m\u001b[0mk2\u001b[0m\u001b[0;34m*\u001b[0m\u001b[0mh__2\u001b[0m\u001b[0;34m)\u001b[0m\u001b[0;34m\u001b[0m\u001b[0m\n\u001b[1;32m     10\u001b[0m         \u001b[0mk4\u001b[0m \u001b[0;34m=\u001b[0m \u001b[0mf\u001b[0m\u001b[0;34m(\u001b[0m\u001b[0mt\u001b[0m\u001b[0;34m+\u001b[0m\u001b[0mh\u001b[0m   \u001b[0;34m,\u001b[0m\u001b[0myn\u001b[0m\u001b[0;34m+\u001b[0m\u001b[0mk3\u001b[0m\u001b[0;34m*\u001b[0m\u001b[0mh\u001b[0m   \u001b[0;34m)\u001b[0m\u001b[0;34m\u001b[0m\u001b[0m\n",
        "\u001b[0;32m/Users/redsh/projs/flu/flu/plasma.py\u001b[0m in \u001b[0;36mderiv\u001b[0;34m(t, s)\u001b[0m\n\u001b[1;32m     43\u001b[0m     \u001b[0mjz\u001b[0m\u001b[0;34m,\u001b[0m\u001b[0mjr\u001b[0m \u001b[0;34m=\u001b[0m \u001b[0;34m-\u001b[0m\u001b[0mruz\u001b[0m\u001b[0;34m/\u001b[0m\u001b[0mgamma\u001b[0m\u001b[0;34m,\u001b[0m \u001b[0;34m-\u001b[0m\u001b[0mrur\u001b[0m\u001b[0;34m/\u001b[0m\u001b[0mgamma\u001b[0m\u001b[0;34m\u001b[0m\u001b[0m\n\u001b[1;32m     44\u001b[0m \u001b[0;34m\u001b[0m\u001b[0m\n\u001b[0;32m---> 45\u001b[0;31m     \u001b[0;32mfor\u001b[0m \u001b[0mP\u001b[0m \u001b[0;32min\u001b[0m \u001b[0ms\u001b[0m\u001b[0;34m.\u001b[0m\u001b[0mplasmas\u001b[0m\u001b[0;34m:\u001b[0m\u001b[0;34m\u001b[0m\u001b[0m\n\u001b[0m\u001b[1;32m     46\u001b[0m         \u001b[0mds_dt\u001b[0m\u001b[0;34m,\u001b[0m\u001b[0mpjz\u001b[0m\u001b[0;34m,\u001b[0m\u001b[0mpjr\u001b[0m \u001b[0;34m=\u001b[0m \u001b[0mP\u001b[0m\u001b[0;34m.\u001b[0m\u001b[0mderiv\u001b[0m\u001b[0;34m(\u001b[0m\u001b[0ms\u001b[0m\u001b[0;34m)\u001b[0m\u001b[0;34m\u001b[0m\u001b[0m\n\u001b[1;32m     47\u001b[0m         \u001b[0mjz\u001b[0m \u001b[0;34m+=\u001b[0m \u001b[0mpjz\u001b[0m\u001b[0;34m\u001b[0m\u001b[0m\n",
        "\u001b[0;31mAttributeError\u001b[0m: 'Sim' object has no attribute 'plasmas'"
       ]
      },
      {
       "output_type": "stream",
       "stream": "stdout",
       "text": [
        " 300.0 (301,)\n"
       ]
      }
     ],
     "prompt_number": 52
    },
    {
     "cell_type": "code",
     "collapsed": false,
     "input": [],
     "language": "python",
     "metadata": {},
     "outputs": [],
     "prompt_number": 48
    },
    {
     "cell_type": "code",
     "collapsed": false,
     "input": [],
     "language": "python",
     "metadata": {},
     "outputs": []
    }
   ],
   "metadata": {}
  }
 ]
}