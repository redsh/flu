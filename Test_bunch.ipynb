{
 "metadata": {
  "name": ""
 },
 "nbformat": 3,
 "nbformat_minor": 0,
 "worksheets": [
  {
   "cells": [
    {
     "cell_type": "code",
     "collapsed": false,
     "input": [
      "%reset -f\n",
      "%load_ext autoreload\n",
      "%autoreload 2\n",
      "from flu.configs import Config\n",
      "from flu.setup import *\n",
      "\n",
      "# parameters\n",
      "cfg = Config()\n",
      "cfg.geometry = 'cyl'\n",
      "cfg.method   = 'fluid'\n",
      "#r.l0=1e-4\n",
      "cfg.Lz,cfg.Lr = 20.,15.\n",
      "cfg.dz,cfg.dr = 1./10,1./10\n",
      "cfg.L = 1.0\n",
      "cfg.W = 2.0\n",
      "cfg.a0 = 0.0\n",
      "cfg.dt = cfg.dz*0.2\n",
      "cfg.k0_kp = 30\n",
      "cfg.T0 = -30.0\n",
      "cfg.bunch_adiabatic_T = 20.0 \n",
      "cfg.smax = 20.0\n",
      "cfg.n_outputs = int(int(cfg.smax-cfg.T0)*0.5)\n",
      "init(cfg, globals())\n",
      "\n",
      "import flu.bunch as bunch\n",
      "\n",
      "#s0.Ez = gaussian_envelope(0)\n",
      "\n",
      "N = s0.Ez.shape[0]*s0.Ez.shape[1]\n",
      "gamma = 101.\n",
      "b = bunch.init_kinetic_bunch(s0,N, mean=(0.,5.), sigma=(1.,1.), gamma=100, emit=1e-3, q0=0.001)\n",
      "s0.plasmas = [b]\n",
      "\n",
      "testonly = False\n",
      "if testonly:\n",
      "    \n",
      "    #scatter(b.data[0,:],b.data[1,:])\n",
      "    #show()\n",
      "    #scatter(b.data[0,:],b.data[2,:])\n",
      "    #x,h=np.histogram(b.data[3,:],128)\n",
      "    #bar(h[1:]+h[:-1],x)\n",
      "    \n",
      "    \n",
      "    #print s0.Ez.shape\n",
      "    #print b.debug\n",
      "    #plot(s0.Ez[0,:])\n",
      "    \n",
      "    #print 'somma',bunch.debug['J'][0].sum()/N,b[2,:].sum()/N,gamma\n",
      "    \n",
      "    #for i in np.linspace(0.23, 0.27, 20):\n",
      "    #bunch.vol0 = i\n",
      "        \n",
      "    if 1:\n",
      "        d,Jz,Jr=bunch.deriv(b,s0)\n",
      "        print i\n",
      "        figure(figsize=(4,4))\n",
      "        title('Jz %f'%i)\n",
      "        plot_field(z,r,Jz,do_lineout=False)\n",
      "        show()\n",
      "        import matplotlib.pylab as plt\n",
      "        plt.plot(r[:30,0],Jz[:30,(5.-zmin)/dz],'.-')\n",
      "        twinx()\n",
      "        plt.plot(r[:30,0],np.exp(-(r[:30,0]*r[:30,0])/(2*1.)))\n",
      "        \n",
      "        show()\n",
      "    \n",
      "        #title('Jr')\n",
      "        #plot_field(z,r,bunch.debug['J'][1],do_lineout=False)\n",
      "        #show()\n",
      "    #colorbar()\n",
      "    #show()\n",
      "    #plot_field(z,r,s0.Ez)\n",
      "    \n",
      "    #scatter(b[0,:][::16],b[1,:][::16],c=bunch.debug['ez'][::16])\n",
      "    #show()\n",
      "\n",
      "if not testonly:\n",
      "    t = T0\n",
      "    s0.Ar = np.zeros(s0.Ez.shape)\n",
      "    s0.Ai = s0.Ar*0\n",
      "    N = int((smax-T0)/dt+0.5)\n",
      "    \n",
      "    \n",
      "    #N = 10\n",
      "    for i in range(N): \n",
      "        cfg.bunch_current_factor = (t-T0)/bunch_adiabatic_T\n",
      "        if cfg.bunch_current_factor > 1.: cfg.bunch_current_factor = 1\n",
      "           \n",
      "        s0 = rk2(s0, t, dt, plasma.deriv)\n",
      "        \n",
      "        t += dt\n",
      "        \n",
      "        if i % (N/cfg.n_outputs) == 1:\n",
      "            print 't=%.2f adiab=%.2f epsilon=%.2f'%(t,cfg.bunch_current_factor,cfg.epsilon)\n",
      "            plot_sim(z,r,t,s0)\n",
      "       \n",
      "        #print i,N,i % (N/cfg.n_outputs),N/cfg.n_outputs\n",
      "        \n",
      "        \n",
      "    \n",
      "    #plot_field(z,r,s0.Ez)\n",
      "\n"
     ],
     "language": "python",
     "metadata": {},
     "outputs": [
      {
       "output_type": "stream",
       "stream": "stdout",
       "text": [
        "The autoreload extension is already loaded. To reload it, use:\n",
        "  %reload_ext autoreload\n",
        "fields dr"
       ]
      },
      {
       "output_type": "stream",
       "stream": "stdout",
       "text": [
        " 0.10067114094\n",
        "(0.0, 49.75)"
       ]
      },
      {
       "output_type": "stream",
       "stream": "stdout",
       "text": [
        " (9.933333333333334, 9.95)\n"
       ]
      },
      {
       "metadata": {},
       "output_type": "display_data",
       "png": "[encoded data removed]",
       "text": [
        "<matplotlib.figure.Figure at 0x104c4e250>"
       ]
      },
      {
       "ename": "NameError",
       "evalue": "global name 'ads' is not defined",
       "output_type": "pyerr",
       "traceback": [
        "\u001b[0;31m---------------------------------------------------------------------------\u001b[0m\n\u001b[0;31mNameError\u001b[0m                                 Traceback (most recent call last)",
        "\u001b[0;32m<ipython-input-16-3a52b52f27e9>\u001b[0m in \u001b[0;36m<module>\u001b[0;34m()\u001b[0m\n\u001b[1;32m     29\u001b[0m \u001b[0mN\u001b[0m \u001b[0;34m=\u001b[0m \u001b[0ms0\u001b[0m\u001b[0;34m.\u001b[0m\u001b[0mEz\u001b[0m\u001b[0;34m.\u001b[0m\u001b[0mshape\u001b[0m\u001b[0;34m[\u001b[0m\u001b[0;36m0\u001b[0m\u001b[0;34m]\u001b[0m\u001b[0;34m*\u001b[0m\u001b[0ms0\u001b[0m\u001b[0;34m.\u001b[0m\u001b[0mEz\u001b[0m\u001b[0;34m.\u001b[0m\u001b[0mshape\u001b[0m\u001b[0;34m[\u001b[0m\u001b[0;36m1\u001b[0m\u001b[0;34m]\u001b[0m\u001b[0;34m\u001b[0m\u001b[0m\n\u001b[1;32m     30\u001b[0m \u001b[0mgamma\u001b[0m \u001b[0;34m=\u001b[0m \u001b[0;36m101.\u001b[0m\u001b[0;34m\u001b[0m\u001b[0m\n\u001b[0;32m---> 31\u001b[0;31m \u001b[0mb\u001b[0m \u001b[0;34m=\u001b[0m \u001b[0mbunch\u001b[0m\u001b[0;34m.\u001b[0m\u001b[0minit_kinetic_bunch\u001b[0m\u001b[0;34m(\u001b[0m\u001b[0ms0\u001b[0m\u001b[0;34m,\u001b[0m\u001b[0mN\u001b[0m\u001b[0;34m,\u001b[0m \u001b[0mmean\u001b[0m\u001b[0;34m=\u001b[0m\u001b[0;34m(\u001b[0m\u001b[0;36m0.\u001b[0m\u001b[0;34m,\u001b[0m\u001b[0;36m5.\u001b[0m\u001b[0;34m)\u001b[0m\u001b[0;34m,\u001b[0m \u001b[0msigma\u001b[0m\u001b[0;34m=\u001b[0m\u001b[0;34m(\u001b[0m\u001b[0;36m1.\u001b[0m\u001b[0;34m,\u001b[0m\u001b[0;36m1.\u001b[0m\u001b[0;34m)\u001b[0m\u001b[0;34m,\u001b[0m \u001b[0mgamma\u001b[0m\u001b[0;34m=\u001b[0m\u001b[0;36m100\u001b[0m\u001b[0;34m,\u001b[0m \u001b[0memit\u001b[0m\u001b[0;34m=\u001b[0m\u001b[0;36m1e-3\u001b[0m\u001b[0;34m,\u001b[0m \u001b[0mq0\u001b[0m\u001b[0;34m=\u001b[0m\u001b[0;36m0.001\u001b[0m\u001b[0;34m)\u001b[0m\u001b[0;34m\u001b[0m\u001b[0m\n\u001b[0m\u001b[1;32m     32\u001b[0m \u001b[0ms0\u001b[0m\u001b[0;34m.\u001b[0m\u001b[0mplasmas\u001b[0m \u001b[0;34m=\u001b[0m \u001b[0;34m[\u001b[0m\u001b[0mb\u001b[0m\u001b[0;34m]\u001b[0m\u001b[0;34m\u001b[0m\u001b[0m\n\u001b[1;32m     33\u001b[0m \u001b[0;34m\u001b[0m\u001b[0m\n",
        "\u001b[0;32m/Users/redsh/projs/flu/flu/bunch.py\u001b[0m in \u001b[0;36minit_kinetic_bunch\u001b[0;34m(s, N, mean, sigma, gamma, emit, q0)\u001b[0m\n\u001b[1;32m     32\u001b[0m         \u001b[0mcolorbar\u001b[0m\u001b[0;34m(\u001b[0m\u001b[0;34m)\u001b[0m\u001b[0;34m\u001b[0m\u001b[0m\n\u001b[1;32m     33\u001b[0m         \u001b[0mshow\u001b[0m\u001b[0;34m(\u001b[0m\u001b[0;34m)\u001b[0m\u001b[0;34m\u001b[0m\u001b[0m\n\u001b[0;32m---> 34\u001b[0;31m         \u001b[0mads\u001b[0m\u001b[0;34m\u001b[0m\u001b[0m\n\u001b[0m\u001b[1;32m     35\u001b[0m         \u001b[0;31m#fasdfds\u001b[0m\u001b[0;34m\u001b[0m\u001b[0;34m\u001b[0m\u001b[0m\n\u001b[1;32m     36\u001b[0m \u001b[0;34m\u001b[0m\u001b[0m\n",
        "\u001b[0;31mNameError\u001b[0m: global name 'ads' is not defined"
       ]
      }
     ],
     "prompt_number": 16
    },
    {
     "cell_type": "code",
     "collapsed": false,
     "input": [],
     "language": "python",
     "metadata": {},
     "outputs": [],
     "prompt_number": 48
    },
    {
     "cell_type": "code",
     "collapsed": false,
     "input": [],
     "language": "python",
     "metadata": {},
     "outputs": []
    }
   ],
   "metadata": {}
  }
 ]
}