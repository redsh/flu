{
 "metadata": {
  "name": ""
 },
 "nbformat": 3,
 "nbformat_minor": 0,
 "worksheets": [
  {
   "cells": [
    {
     "cell_type": "code",
     "collapsed": false,
     "input": [
      "%reset -f\n",
      "%load_ext autoreload\n",
      "%autoreload 2\n",
      "\n",
      "from flu.configs import Config\n",
      "from flu.setup import *\n",
      "\n",
      "#parametri\n",
      "cfg = Config()\n",
      "cfg.geometry = 'cyl'\n",
      "cfg.method   = 'fluid'\n",
      "#r.l0=1e-4\n",
      "cfg.Lz,cfg.Lr = 20.,10.\n",
      "cfg.dz,cfg.dr = 1./10,1./10\n",
      "cfg.L = 0.5\n",
      "cfg.W = 4.0\n",
      "cfg.a0 = 1.5\n",
      "cfg.dt = cfg.dz*0.2\n",
      "cfg.k0_kp = 30\n",
      "cfg.T0 = 0.\n",
      "cfg.smax = 100.\n",
      "init(cfg, globals())\n",
      "\n",
      "print 'stability',k0_kp*k0_kp - 2.0/(cfg.dz*cfg.dz),'>',2.0/(cfg.dz*cfg.dz)\n",
      "\n",
      "t = T0\n",
      "N = int((smax-T0)/dt+0.5)\n",
      "#print N\n",
      "    \n",
      "s0.Ar = gaussian_envelope(t)\n",
      "s0.Ai = s0.Ar*0\n",
      "\n",
      "Ar_prev = s0.Ar.copy()\n",
      "Ai_prev = s0.Ai.copy()\n",
      "\n",
      "\n",
      "for i in range(N):\n",
      "\n",
      "    s0 = rk2(s0, t, dt, plasma.deriv)\n",
      "    \n",
      "    # envelope!\n",
      "    xi = s0.rho/s0.gamma\n",
      "    br = diff_z_1( S(s0.Ar,xi) ) + k0_kp * S(s0.Ai,xi)\n",
      "    bi = diff_z_1( S(s0.Ai,xi) ) - k0_kp * S(s0.Ar,xi)\n",
      "   \n",
      "    tmpr = s0.Ar.copy()\n",
      "    tmpi = s0.Ai.copy()\n",
      "    \n",
      "    s0.Ar = Ar_prev + MI( (s0.Ar-Ar_prev)/(dt), br )*dt*2\n",
      "    s0.Ai = Ai_prev + MI( (s0.Ai-Ai_prev)/(dt), bi )*dt*2\n",
      "    \n",
      "    Ar_prev = tmpr\n",
      "    Ai_prev = tmpi\n",
      "    \n",
      "    t += dt\n",
      "    \n",
      "    if (i % (N/20) == 0 and 1) or i == N-1:\n",
      "        plot_sim(z,r,t,s0)\n",
      "    \n",
      "    #print 't,dt',t,dt\n",
      "    \n",
      "    \n",
      "    "
     ],
     "language": "python",
     "metadata": {},
     "outputs": [
      {
       "output_type": "stream",
       "stream": "stdout",
       "text": [
        "The autoreload extension is already loaded. To reload it, use:\n",
        "  %reload_ext autoreload\n",
        "fields dr"
       ]
      },
      {
       "ename": "NameError",
       "evalue": "name 'diff_z_1' is not defined",
       "output_type": "pyerr",
       "traceback": [
        "\u001b[0;31m---------------------------------------------------------------------------\u001b[0m\n\u001b[0;31mNameError\u001b[0m                                 Traceback (most recent call last)",
        "\u001b[0;32m<ipython-input-3-cdc644c63c2b>\u001b[0m in \u001b[0;36m<module>\u001b[0;34m()\u001b[0m\n\u001b[1;32m     41\u001b[0m     \u001b[0;31m# envelope!\u001b[0m\u001b[0;34m\u001b[0m\u001b[0;34m\u001b[0m\u001b[0m\n\u001b[1;32m     42\u001b[0m     \u001b[0mxi\u001b[0m \u001b[0;34m=\u001b[0m \u001b[0ms0\u001b[0m\u001b[0;34m.\u001b[0m\u001b[0mrho\u001b[0m\u001b[0;34m/\u001b[0m\u001b[0ms0\u001b[0m\u001b[0;34m.\u001b[0m\u001b[0mgamma\u001b[0m\u001b[0;34m\u001b[0m\u001b[0m\n\u001b[0;32m---> 43\u001b[0;31m     \u001b[0mbr\u001b[0m \u001b[0;34m=\u001b[0m \u001b[0mdiff_z_1\u001b[0m\u001b[0;34m(\u001b[0m \u001b[0mS\u001b[0m\u001b[0;34m(\u001b[0m\u001b[0ms0\u001b[0m\u001b[0;34m.\u001b[0m\u001b[0mAr\u001b[0m\u001b[0;34m,\u001b[0m\u001b[0mxi\u001b[0m\u001b[0;34m)\u001b[0m \u001b[0;34m)\u001b[0m \u001b[0;34m+\u001b[0m \u001b[0mk0_kp\u001b[0m \u001b[0;34m*\u001b[0m \u001b[0mS\u001b[0m\u001b[0;34m(\u001b[0m\u001b[0ms0\u001b[0m\u001b[0;34m.\u001b[0m\u001b[0mAi\u001b[0m\u001b[0;34m,\u001b[0m\u001b[0mxi\u001b[0m\u001b[0;34m)\u001b[0m\u001b[0;34m\u001b[0m\u001b[0m\n\u001b[0m\u001b[1;32m     44\u001b[0m     \u001b[0mbi\u001b[0m \u001b[0;34m=\u001b[0m \u001b[0mdiff_z_1\u001b[0m\u001b[0;34m(\u001b[0m \u001b[0mS\u001b[0m\u001b[0;34m(\u001b[0m\u001b[0ms0\u001b[0m\u001b[0;34m.\u001b[0m\u001b[0mAi\u001b[0m\u001b[0;34m,\u001b[0m\u001b[0mxi\u001b[0m\u001b[0;34m)\u001b[0m \u001b[0;34m)\u001b[0m \u001b[0;34m-\u001b[0m \u001b[0mk0_kp\u001b[0m \u001b[0;34m*\u001b[0m \u001b[0mS\u001b[0m\u001b[0;34m(\u001b[0m\u001b[0ms0\u001b[0m\u001b[0;34m.\u001b[0m\u001b[0mAr\u001b[0m\u001b[0;34m,\u001b[0m\u001b[0mxi\u001b[0m\u001b[0;34m)\u001b[0m\u001b[0;34m\u001b[0m\u001b[0m\n\u001b[1;32m     45\u001b[0m \u001b[0;34m\u001b[0m\u001b[0m\n",
        "\u001b[0;31mNameError\u001b[0m: name 'diff_z_1' is not defined"
       ]
      },
      {
       "output_type": "stream",
       "stream": "stdout",
       "text": [
        " 0.10101010101\n",
        "stability 701.995 > 198.005\n",
        "gaussian envelope @ 0.0 delta_g= 0.0\n"
       ]
      }
     ],
     "prompt_number": 3
    },
    {
     "cell_type": "code",
     "collapsed": false,
     "input": [],
     "language": "python",
     "metadata": {},
     "outputs": []
    }
   ],
   "metadata": {}
  }
 ]
}