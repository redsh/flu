{
 "metadata": {
  "name": ""
 },
 "nbformat": 3,
 "nbformat_minor": 0,
 "worksheets": [
  {
   "cells": [
    {
     "cell_type": "code",
     "collapsed": false,
     "input": [
      "%reset -f\n",
      "%load_ext autoreload\n",
      "%autoreload 2\n",
      "\n",
      "from flu.configs import Config\n",
      "from flu.setup import *\n",
      "\n",
      "# parameters\n",
      "cfg = Config()\n",
      "cfg.geometry = 'cyl'\n",
      "cfg.method   = 'fluid'\n",
      "#r.l0=1e-4\n",
      "cfg.Lz,cfg.Lr = 20.,10.\n",
      "cfg.dz,cfg.dr = 1./10,1./10\n",
      "cfg.L = 0.5\n",
      "cfg.W = 4.0\n",
      "cfg.a0 = 1.5\n",
      "cfg.dt = cfg.dz*0.2\n",
      "cfg.k0_kp = 30\n",
      "cfg.T0 = 0.\n",
      "cfg.smax = 10.0\n",
      "\n",
      "init(cfg, globals())\n",
      "\n",
      "\n",
      "t = T0\n",
      "s0.Ar = gaussian_envelope(t)\n",
      "s0.Ai = s0.Ar*0\n",
      "\n",
      "N = int((smax-T0)/dt+0.5)\n",
      "    \n",
      "for i in range(N): \n",
      "    s0 = rk2(s0, t, dt, plasma.deriv)\n",
      "    t += dt\n",
      "        \n",
      "plot_sim(z,r,t,s0)\n",
      "        "
     ],
     "language": "python",
     "metadata": {},
     "outputs": []
    },
    {
     "cell_type": "code",
     "collapsed": false,
     "input": [],
     "language": "python",
     "metadata": {},
     "outputs": []
    }
   ],
   "metadata": {}
  }
 ]
}